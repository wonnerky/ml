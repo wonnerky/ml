{
  "cells": [
    {
      "cell_type": "markdown",
      "metadata": {
        "id": "5gyFPhPWJev9"
      },
      "source": [
        "##### Copyright 2021 Google LLC. All Rights Reserved."
      ]
    },
    {
      "cell_type": "code",
      "execution_count": null,
      "metadata": {
        "id": "LPGlYwKdJP3o"
      },
      "outputs": [],
      "source": [
        "#@title Licensed under the Apache License, Version 2.0 (the \"License\");\n",
        "# you may not use this file except in compliance with the License.\n",
        "# You may obtain a copy of the License at\n",
        "#\n",
        "# https://www.apache.org/licenses/LICENSE-2.0\n",
        "#\n",
        "# Unless required by applicable law or agreed to in writing, software\n",
        "# distributed under the License is distributed on an \"AS IS\" BASIS,\n",
        "# WITHOUT WARRANTIES OR CONDITIONS OF ANY KIND, either express or implied.\n",
        "# See the License for the specific language governing permissions and\n",
        "# limitations under the License."
      ]
    },
    {
      "cell_type": "markdown",
      "metadata": {
        "id": "nGMkkZI9gGVD"
      },
      "source": [
        "#**RLDS: Tutorial**\n",
        "This colab provides an overview of how RLDS can be used to load and manipulate datasets.\n",
        "\n",
        "If you're looking for more complex examples, see the the [RLDS examples Notebook](https://colab.research.google.com/github/google-research/rlds/blob/main/rlds/examples/rlds_examples.ipynb) in Google Colab. Or [this one](https://colab.research.google.com/github/google-research/rlds/blob/main/rlds/examples/rlds_performance.ipynb) for performance tips."
      ]
    },
    {
      "cell_type": "markdown",
      "metadata": {
        "id": "WB0cAjdfrPXM"
      },
      "source": [
        "\n",
        "<table class=\"tfo-notebook-buttons\" align=\"left\">\n",
        "  <td>\n",
        "    <a href=\"https://colab.research.google.com/github/google-research/rlds/blob/main/rlds/examples/rlds_tutorial.ipynb\" target=\"_parent\"><img src=\"https://colab.research.google.com/assets/colab-badge.svg\" alt=\"Run In Google Colab\"/></a>\n",
        "  </td>\n",
        "</table>"
      ]
    },
    {
      "cell_type": "markdown",
      "metadata": {
        "id": "36WPcDI8lVPI"
      },
      "source": [
        "##Install module"
      ]
    },
    {
      "cell_type": "code",
      "execution_count": null,
      "metadata": {
        "id": "LvD0ZsudlZVO"
      },
      "outputs": [],
      "source": [
        "!pip install rlds[tensorflow]\n",
        "!pip install tfds-nightly"
      ]
    },
    {
      "cell_type": "markdown",
      "metadata": {
        "id": "tErv4WRmgTjE"
      },
      "source": [
        "##Import Modules"
      ]
    },
    {
      "cell_type": "code",
      "execution_count": null,
      "metadata": {
        "id": "ysYC-fdKjO3r"
      },
      "outputs": [],
      "source": [
        "from typing import Any, Dict, Union, NamedTuple\n",
        "\n",
        "import numpy as np\n",
        "import tensorflow.compat.v2 as tf\n",
        "import tensorflow_datasets as tfds\n",
        "import rlds"
      ]
    },
    {
      "cell_type": "markdown",
      "metadata": {
        "id": "9gwFBSgGjO3s"
      },
      "source": [
        "##Load dataset\n",
        "We can load an RLDS dataset using TFDS. See the available datasets in the [TFDS catalog](https://www.tensorflow.org/datasets/catalog/overview) and look for those with an episodic structure.\n",
        "\n",
        "For example:\n",
        "* [D4RL Datasets](https://www.tensorflow.org/datasets/catalog/overview#d4rl)\n",
        "* [RL Unplugged Datasets](https://www.tensorflow.org/datasets/catalog/overview#rl_unplugged)\n",
        "* [RLDS Datasets](https://www.tensorflow.org/datasets/catalog/overview#rlds)"
      ]
    },
    {
      "cell_type": "code",
      "execution_count": null,
      "metadata": {
        "id": "rUPVer19cCqG"
      },
      "outputs": [],
      "source": [
        "dataset_name = 'd4rl_mujoco_walker2d'  # @param { isTemplate: true}\n",
        "num_episodes_to_load = 10   # @param { isTemplate: true}"
      ]
    },
    {
      "cell_type": "code",
      "execution_count": null,
      "metadata": {
        "id": "9PH8NfkUYxUW"
      },
      "outputs": [],
      "source": [
        "dataset = tfds.load(dataset_name, split = f'train[:{num_episodes_to_load}]')"
      ]
    },
    {
      "cell_type": "markdown",
      "metadata": {
        "id": "iYanoTCuyBnI"
      },
      "source": [
        "The content of the dataset complies with the format described in the RLDS [README](https://github.com/google-research/rlds/blob/main/README.md): an outer `tf.data.Dataset` of episodes, each of them containing episode metadata and a `tf.data.Dataset` of steps.\n",
        "\n",
        "For example, let's inspect the first episode of the dataset that we have just loaded."
      ]
    },
    {
      "cell_type": "code",
      "execution_count": null,
      "metadata": {
        "id": "86ndebmc0eL3",
        "outputId": "d2c1367b-17d0-4bac-b621-d1b57422304b"
      },
      "outputs": [
        {
          "name": "stdout",
          "output_type": "stream",
          "text": [
            "{'steps': DatasetSpec({'action': TensorSpec(shape=(6,), dtype=tf.float32, name=None), 'discount': TensorSpec(shape=(), dtype=tf.float32, name=None), 'is_first': TensorSpec(shape=(), dtype=tf.bool, name=None), 'is_last': TensorSpec(shape=(), dtype=tf.bool, name=None), 'is_terminal': TensorSpec(shape=(), dtype=tf.bool, name=None), 'observation': TensorSpec(shape=(17,), dtype=tf.float32, name=None), 'reward': TensorSpec(shape=(), dtype=tf.float32, name=None)}, TensorShape([]))}\n"
          ]
        }
      ],
      "source": [
        "print(dataset.element_spec)"
      ]
    },
    {
      "cell_type": "markdown",
      "metadata": {
        "id": "X1KXM8IGecRO"
      },
      "source": [
        "##Basic dataset transformations\n",
        "RLDS datasets can be manipulated with `tf.data.Dataset` functions, but the RLDS library provides building blocks to perform more complex transformations that prepare the data to be consumed by an algorithm.\n",
        "\n",
        "In the following sections, we show how to use some of the standard `tf.data` functions and some of the RLDS transformations.\n",
        "\n",
        "If you are not familiar with the `tf.data.Dataset` API, we recommend you to\n",
        "take a look first at the `tf.data` documentation [here](https://www.tensorflow.org/guide/data).  Methods such as `map`, `flat_map`, `batch` and `filter` are worth to know about. RLDS provides a number of helper functions built with the use of `tf.data` pipelines, but you will still need to use `tf.data` directly to glue them together.\n",
        "\n",
        "See this [colab](https://colab.research.google.com/github/google-research/rlds/blob/main/rlds/examples/rlds_performance.ipynb) for performance tips when building `tf.data.Dataset` pipelines for RLDS datasets.\n"
      ]
    },
    {
      "cell_type": "markdown",
      "metadata": {
        "id": "SYjfFnsHjO3s"
      },
      "source": [
        "### `tf.data` operations\n",
        "These are a couple of examples of how to use standard `tf.data` operations with RLDS datasets.\n",
        "\n",
        "\n",
        "This first example, uses `take` and `skip` to skip one episode and to take the next 5. The result is a dataset of 5 episodes."
      ]
    },
    {
      "cell_type": "code",
      "execution_count": null,
      "metadata": {
        "id": "7GJW9IanjO3s"
      },
      "outputs": [],
      "source": [
        "shortened_dataset = dataset.skip(1).take(5)"
      ]
    },
    {
      "cell_type": "markdown",
      "metadata": {
        "id": "NxfBZkMUlArh"
      },
      "source": [
        "This other example converts a dataset of episodes into a flat dataset of steps using `flat_map`.\n",
        "\n",
        "The result, `steps_dataset`, is a sequence of all episodes' steps from the original dataset."
      ]
    },
    {
      "cell_type": "code",
      "execution_count": null,
      "metadata": {
        "id": "Xb0OxeC1I2Os",
        "outputId": "41b47798-b0b4-47a6-e78a-ae4250f5d58a"
      },
      "outputs": [
        {
          "name": "stdout",
          "output_type": "stream",
          "text": [
            "{'action': TensorSpec(shape=(6,), dtype=tf.float32, name=None), 'discount': TensorSpec(shape=(), dtype=tf.float32, name=None), 'is_first': TensorSpec(shape=(), dtype=tf.bool, name=None), 'is_last': TensorSpec(shape=(), dtype=tf.bool, name=None), 'is_terminal': TensorSpec(shape=(), dtype=tf.bool, name=None), 'observation': TensorSpec(shape=(17,), dtype=tf.float32, name=None), 'reward': TensorSpec(shape=(), dtype=tf.float32, name=None)}\n"
          ]
        }
      ],
      "source": [
        "dataset_steps = dataset.flat_map(lambda episode: episode[rlds.STEPS])\n",
        "\n",
        "print(dataset_steps.element_spec)"
      ]
    },
    {
      "cell_type": "markdown",
      "metadata": {
        "id": "Hl4nQMi3kLQt"
      },
      "source": [
        "### Zeros like\n",
        "RLDS offers functions to create empty steps with the same shape and dtype of the original step (and datasets that contain only one of these zeros-like steps)."
      ]
    },
    {
      "cell_type": "code",
      "execution_count": null,
      "metadata": {
        "id": "MODmaRDCk0X9",
        "outputId": "b3915271-df47-446c-c89f-868cea502e6f"
      },
      "outputs": [
        {
          "data": {
            "text/plain": [
              "{'steps': <TensorDataset shapes: {action: (6,), discount: (), is_first: (), is_last: (), is_terminal: (), observation: (17,), reward: ()}, types: {action: tf.float32, discount: tf.float32, is_first: tf.bool, is_last: tf.bool, is_terminal: tf.bool, observation: tf.float32, reward: tf.float32}>}"
            ]
          },
          "execution_count": 6,
          "metadata": {},
          "output_type": "execute_result"
        }
      ],
      "source": [
        "# Creates a step with all fields initialized to zeros.\n",
        "zero_step = rlds.transformations.zeros_from_spec(\n",
        "    dataset.element_spec[rlds.STEPS].element_spec)\n",
        "\n",
        "# Creates an episode with steps and the episode metadata initialized to zeros.\n",
        "zero_episode = rlds.build_episode(\n",
        "    steps=rlds.transformations.zero_dataset_like(\n",
        "        dataset.element_spec[rlds.STEPS]),\n",
        "    metadata=rlds.transformations.zeros_from_spec({\n",
        "        k: dataset.element_spec[k]\n",
        "        for k in dataset.element_spec.keys()\n",
        "        if k != rlds.STEPS\n",
        "    }))\n",
        "\n",
        "zero_episode"
      ]
    },
    {
      "cell_type": "markdown",
      "metadata": {
        "id": "9I8vUwH1CA6M"
      },
      "source": [
        "###Alignment of the step fields\n",
        "RLDS retrieves the steps with the current observation, the action applied to this observation, and the reward obtained after applying this action. However, algorithms may consume them with a different alignment. For example, an algorithm may need a step with the next observation instead of the current one. The RLDS library supports an alignment transformation to shift steps fields. Here is an example.\n",
        "![Alignment.png](data:image/png;base64,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)"
      ]
    },
    {
      "cell_type": "code",
      "execution_count": null,
      "metadata": {
        "id": "6cpKMTfzLCea"
      },
      "outputs": [],
      "source": [
        "# Uses `shift_keys` to shift observations 2 steps backwards in an episode.\n",
        "def shift_episode(episode):\n",
        "  episode[rlds.STEPS] = rlds.transformations.alignment.shift_keys(\n",
        "      episode[rlds.STEPS], [rlds.OBSERVATION], -2)\n",
        "  return episode\n",
        "\n",
        "# Shifts observations 2 steps backwards in all episodes.\n",
        "shifted_dataset = dataset.map(shift_episode)"
      ]
    },
    {
      "cell_type": "markdown",
      "metadata": {
        "id": "0b3ubEWse866"
      },
      "source": [
        "###Conditional truncation\n",
        "This operation allows truncating a dataset after a condition (that is defined by the user) has been met."
      ]
    },
    {
      "cell_type": "code",
      "execution_count": null,
      "metadata": {
        "id": "N48zVnUUDGGm"
      },
      "outputs": [],
      "source": [
        "# Defines a condition function.\n",
        "def condition(step):\n",
        "  return step[rlds.REWARD] > 5.\n",
        "\n",
        "# Truncates dataset after the first step with a reward higher than 5.\n",
        "truncated_dataset = dataset.map(\n",
        "    lambda episode: rlds.transformations.truncate_after_condition(\n",
        "        episode[rlds.STEPS], condition))"
      ]
    },
    {
      "cell_type": "markdown",
      "metadata": {
        "id": "oIlfH6uUfFLn"
      },
      "source": [
        "###Concatenate\n",
        "The RLDS library provides a custom `concatenate` function that supports concatenating datasets even if the dataset elements do not contain the same fields. The only condition is that the elements of the datasets are dictionaries (like the steps or the episodes).\n",
        "\n",
        "In this example, we just add a zeros-like step at the end of each episode."
      ]
    },
    {
      "cell_type": "code",
      "execution_count": null,
      "metadata": {
        "id": "zbzHuLKYfSag"
      },
      "outputs": [],
      "source": [
        "def concatenate_episode(episode):\n",
        "  episode[rlds.STEPS] = rlds.transformations.concatenate(\n",
        "      episode[rlds.STEPS],\n",
        "      rlds.transformations.zero_dataset_like(\n",
        "          dataset.element_spec[rlds.STEPS]))\n",
        "  return episode\n",
        "\n",
        "# Concatenates the existing dataset with a zeros-like dataset.\n",
        "zero_concatenate_dataset = dataset.map(concatenate_episode)"
      ]
    },
    {
      "cell_type": "markdown",
      "metadata": {
        "id": "PvtGZMWeDe0D"
      },
      "source": [
        "When the elements of the two datasets don't contain the same fields, the new dataset contains the union of the fields and it adds the extra fields with a zero-like value.\n",
        "\n",
        "For example, let's change the example above to indicate that the empty step we added is not a real step, but only padding. To do so, instead of concatenating a zeros-like step, we concatenate a dataset with one step that contains only the following: `{'is_padding'=True}`.\n",
        "\n",
        "In the output dataset, all the real steps will contain the new key (`'is_padding'`) with a default value (`False`). The new last step will contain all the step keys with a zero value, and `'is_padding'=True`."
      ]
    },
    {
      "cell_type": "code",
      "execution_count": null,
      "metadata": {
        "id": "uhA-jpkU-Tck"
      },
      "outputs": [],
      "source": [
        "def concatenate_episode(episode):\n",
        "  step_with_padding = tf.data.Dataset.from_tensors({'is_padding': [True]})\n",
        "  episode[rlds.STEPS] = rlds.transformations.concatenate(\n",
        "      episode[rlds.STEPS], step_with_padding)\n",
        "  return episode\n",
        "\n",
        "# Adds field `is_padding` in the existing dataset.\n",
        "zero_concatenate_dataset = dataset.map(concatenate_episode)"
      ]
    },
    {
      "cell_type": "markdown",
      "metadata": {
        "id": "7PiO1oAGDswA"
      },
      "source": [
        "If we only want to pad episodes that end in a terminal state, we can use  `concat_if_terminal`."
      ]
    },
    {
      "cell_type": "code",
      "execution_count": null,
      "metadata": {
        "id": "qn2tW4bNfv-y"
      },
      "outputs": [],
      "source": [
        "# Builds a dataset with a zeros-like step.\n",
        "def make_extra_step(_):\n",
        "  return rlds.transformations.zero_dataset_like(\n",
        "      dataset.element_spec[rlds.STEPS])\n",
        "\n",
        "def concatenate_episode(episode):\n",
        "  episode[rlds.STEPS] = rlds.transformations.concat_if_terminal(\n",
        "      episode[rlds.STEPS], make_extra_step)\n",
        "  return episode\n",
        "\n",
        "# Concatenates the existing dataset with a zeros-like dataset if the existing\n",
        "# dataset ends with a terminal step.\n",
        "condition_concatenate_dataset = dataset.map(concatenate_episode)"
      ]
    },
    {
      "cell_type": "markdown",
      "metadata": {
        "id": "VdUWr8aTktQn"
      },
      "source": [
        "### Batch dataset with overlap\n",
        "RLDS provides a flexible batching method that allows to configure batches as sliding windows, allowing, for example, to create batches that overlap.\n"
      ]
    },
    {
      "cell_type": "code",
      "execution_count": null,
      "metadata": {
        "id": "9kTT3jxkAd6i"
      },
      "outputs": [],
      "source": [
        "batch_size = 2\n",
        "shift = 3\n",
        "batched_dataset = rlds.transformations.batch(dataset, batch_size, shift)"
      ]
    },
    {
      "cell_type": "markdown",
      "metadata": {
        "id": "LjxDD6bYjO3s"
      },
      "source": [
        "##Statistics\n",
        "The RLDS library includes optimized helpers to calculate statistics across the dataset. To avoid making assumptions on the data, many of them receive as an extra parameter a function to select the data of the step that we want to use in the stats."
      ]
    },
    {
      "cell_type": "markdown",
      "metadata": {
        "id": "Rwx2coX6zPWE"
      },
      "source": [
        "###Sum of step fields\n",
        "\n",
        "`sum_nested_steps` allows users to sum data accross all the steps in the dataset. It gets an extra parameter, `get_data`, that enables the user to define which data of the step is going to be added. In this example, we take the action and reward of all steps."
      ]
    },
    {
      "cell_type": "code",
      "execution_count": null,
      "metadata": {
        "id": "Yn5MwYa0Evud",
        "outputId": "cc02f070-1253-40a9-8d4e-1eb97e81ed8f"
      },
      "outputs": [
        {
          "name": "stdout",
          "output_type": "stream",
          "text": [
            "sum rewards:  31433.799\n",
            "sum actions:  [2541.966   1973.7347  1183.858   3343.9478  1234.8883   438.08795]\n"
          ]
        }
      ],
      "source": [
        "@tf.function\n",
        "def get_data(step):\n",
        "  # Extracts reward and action from the step (sets them to zeros if this is the\n",
        "  # last step).\n",
        "  if step[rlds.IS_LAST]:\n",
        "    return {k: tf.nest.map_structure(tf.zeros_like, step[k]) for k in [rlds.REWARD, rlds.ACTION]}\n",
        "  else:\n",
        "    return {k: step[k] for k in [rlds.REWARD, rlds.ACTION]}\n",
        "\n",
        "# Calculates sum across reward and action fields.\n",
        "sum = rlds.transformations.sum_nested_steps(dataset, get_data)\n",
        "\n",
        "print('sum rewards: ', sum[rlds.REWARD].numpy())\n",
        "print('sum actions: ', sum[rlds.ACTION].numpy())"
      ]
    },
    {
      "cell_type": "markdown",
      "metadata": {
        "id": "nblDjpJ6M1-u"
      },
      "source": [
        "### Total reward per episode\n",
        "\n",
        "`sum_dataset` can be used to efficiently sum the values of one or multiple fields of a step. For example, to calculate the total reward per episode."
      ]
    },
    {
      "cell_type": "code",
      "execution_count": null,
      "metadata": {
        "id": "vHqGaegBM1cG",
        "outputId": "02df9c88-0475-430b-e5d1-8cba92bbe012"
      },
      "outputs": [
        {
          "name": "stdout",
          "output_type": "stream",
          "text": [
            "tf.Tensor(2893.3196, shape=(), dtype=float32)\n",
            "tf.Tensor(4872.342, shape=(), dtype=float32)\n",
            "tf.Tensor(213.88623, shape=(), dtype=float32)\n",
            "tf.Tensor(4916.548, shape=(), dtype=float32)\n",
            "tf.Tensor(302.69305, shape=(), dtype=float32)\n",
            "tf.Tensor(4875.001, shape=(), dtype=float32)\n",
            "tf.Tensor(2630.2253, shape=(), dtype=float32)\n",
            "tf.Tensor(5102.949, shape=(), dtype=float32)\n",
            "tf.Tensor(643.4336, shape=(), dtype=float32)\n",
            "tf.Tensor(5012.339, shape=(), dtype=float32)\n"
          ]
        }
      ],
      "source": [
        "@tf.function\n",
        "def data_to_sum(step):\n",
        "  # This assumes that the reward is valid in all steps.\n",
        "  return step[rlds.REWARD]\n",
        "\n",
        "\n",
        "@tf.function\n",
        "def add_total_reward(episode):\n",
        "  total = rlds.transformations.sum_dataset(episode[rlds.STEPS], data_to_sum)\n",
        "  return {\n",
        "      **episode,\n",
        "      'total_reward': total\n",
        "  }\n",
        "\n",
        "ds_with_total_reward  = dataset.map(add_total_reward)\n",
        "\n",
        "for e in ds_with_total_reward:\n",
        "  print(e['total_reward'])"
      ]
    },
    {
      "cell_type": "markdown",
      "metadata": {
        "id": "4bOMFYQxzRhq"
      },
      "source": [
        "###Episode length\n",
        "\n",
        "`episode_length` computes the number of steps in a given dataset."
      ]
    },
    {
      "cell_type": "code",
      "execution_count": null,
      "metadata": {
        "id": "qeDbHgEJs5UM"
      },
      "outputs": [],
      "source": [
        "# Calculates lengths for each episode.\n",
        "lengths = dataset.map(\n",
        "    lambda episode: rlds.transformations.episode_length(episode[rlds.STEPS]))"
      ]
    },
    {
      "cell_type": "markdown",
      "metadata": {
        "id": "dejozsn-ze6-"
      },
      "source": [
        "### Mean and std\n",
        "\n",
        "`mean_and_std` computes the mean and standard deviation accross all the steps for any field (or nested field) of the step.\n",
        "\n",
        "Besides the dataset, users need to provide a function `get_data` that returns\n",
        "two values:\n",
        "\n",
        "* the data in this step (for example one of the fields of the step)\n",
        "* if the data is valid (for example, in the last step in SAR alignment, the action and the reward are usually undefined).\n",
        "\n",
        "When the data in the observation and action is numeric, and the user hasn't changed the alignment, it is possible to use a predefined `get_data`: `sar_fields_mask`, as in the following example (note that it may not work with all the datasets)."
      ]
    },
    {
      "cell_type": "code",
      "execution_count": null,
      "metadata": {
        "id": "YcOlpn7gbI3H",
        "outputId": "b653d719-5716-4299-d884-ff9258afc935"
      },
      "outputs": [
        {
          "name": "stdout",
          "output_type": "stream",
          "text": [
            "mean[REWARD]:  4.841182631776529\n",
            "std[REWARD]: 1.391955884612761\n",
            "mean[OBSERVATION]:  [ 1.05274827  0.04893328 -0.47156038 -1.0142821   0.3008562  -0.49524645\n",
            " -0.84853085  0.13825982  3.83863968 -0.07165551 -0.09909935 -0.18603987\n",
            " -0.27781131 -0.02443931 -0.45444301 -0.65726478 -0.19884101]\n",
            "std[OBSERVATION]: [0.11461395 0.37376662 0.58621069 0.91406946 0.74730198 0.67789405\n",
            " 0.7619462  0.72785354 1.40508326 1.08847192 5.1517826  5.55214327\n",
            " 6.91617172 6.2763008  5.90013166 6.99249852 6.11710722]\n",
            "mean[ACTION]:  [0.39149331 0.30397886 0.18232836 0.51500812 0.19018763 0.06747081]\n",
            "std[ACTION]: [0.61771837 0.62655076 0.72291193 0.59590623 0.62789729 0.73598925]\n"
          ]
        }
      ],
      "source": [
        "# Calculates mean and std of reward, observation and action across the full dataset of episodes.\n",
        "mean, std = rlds.transformations.mean_and_std(dataset, rlds.transformations.sar_fields_mask)\n",
        "print('mean[REWARD]: ', mean[rlds.REWARD].numpy())\n",
        "print('std[REWARD]:' , std[rlds.REWARD])\n",
        "\n",
        "print('mean[OBSERVATION]: ', mean[rlds.OBSERVATION].numpy())\n",
        "print('std[OBSERVATION]:' , std[rlds.OBSERVATION])\n",
        "\n",
        "print('mean[ACTION]: ', mean[rlds.ACTION].numpy())\n",
        "print('std[ACTION]:' , std[rlds.ACTION])"
      ]
    },
    {
      "cell_type": "markdown",
      "metadata": {
        "id": "RT0eE-k_bGQ6"
      },
      "source": [
        "To customize this function (for example, when we change the alignment, or when we want only the stats of certain fields), we can provide our own implementation of `get_data`."
      ]
    },
    {
      "cell_type": "code",
      "execution_count": null,
      "metadata": {
        "id": "8gO6Ctnm6GRB",
        "outputId": "5174f95b-88cb-4ec7-e6df-309ee85784fd"
      },
      "outputs": [
        {
          "name": "stdout",
          "output_type": "stream",
          "text": [
            "mean:  4.841182631776529\n",
            "std: 1.391955884612761\n"
          ]
        }
      ],
      "source": [
        "def get_data(step):\n",
        "  # Obtains the desired data from the step.\n",
        "  data = {rlds.REWARD: step[rlds.REWARD]}\n",
        "  # Discards the data of the last step.\n",
        "  if step[rlds.IS_LAST]:\n",
        "    mask = {\n",
        "        rlds.REWARD: False,\n",
        "    }\n",
        "  else:\n",
        "    mask = {\n",
        "        rlds.REWARD: True,\n",
        "    }\n",
        "  return data, mask\n",
        "\n",
        "# Calculates mean and std of the reward across the full dataset of episodes.\n",
        "mean, std = rlds.transformations.mean_and_std(dataset, get_data)\n",
        "print('mean: ', mean[rlds.REWARD].numpy())\n",
        "print('std:' , std[rlds.REWARD])"
      ]
    },
    {
      "cell_type": "markdown",
      "metadata": {
        "id": "G1CgW9kAhTTX"
      },
      "source": [
        "##RL examples\n",
        "This section includes examples of more complex operations based on the RLDS library."
      ]
    },
    {
      "cell_type": "markdown",
      "metadata": {
        "id": "fnLs10vhgqQx"
      },
      "source": [
        "### Filter episodes based on average reward\n",
        "\n",
        "In this example, we fist add the average reward to each episode, and then filter out episodes with an average reward higher than 5."
      ]
    },
    {
      "cell_type": "code",
      "execution_count": null,
      "metadata": {
        "id": "1Eeoal9DguzU",
        "outputId": "517ecebf-adff-4028-a9ad-058569ca301e"
      },
      "outputs": [
        {
          "name": "stdout",
          "output_type": "stream",
          "text": [
            "mean rewards:  [4.9713397, 4.8754473, 1.7973634, 4.9208055, 2.9969609, 4.879451, 4.8888946, 5.10698, 3.9474454, 5.0171576]\n",
            "filtered mean rewards:  [4.9713397, 4.8754473, 1.7973634, 4.9208055, 2.9969609, 4.879451, 4.8888946, 3.9474454]\n"
          ]
        }
      ],
      "source": [
        "# Defines a function to calculate mean of rewards per episode.\n",
        "def reduction_fn(episode):\n",
        "  @tf.function\n",
        "  def data_to_sum(step):\n",
        "    # Sets the reward of the last step to 0\n",
        "    if step[rlds.IS_LAST]:\n",
        "      return {rlds.REWARD: tf.zeros_like(step[rlds.REWARD])}\n",
        "    else:\n",
        "      return {rlds.REWARD: step[rlds.REWARD]}\n",
        "\n",
        "  total_reward = rlds.transformations.nested_ops.sum_dataset(\n",
        "      episode[rlds.STEPS], data_to_sum)\n",
        "  count = rlds.transformations.episode_length(episode[rlds.STEPS])\n",
        "  avg = tf.cast(total_reward[rlds.REWARD], tf.float32) / (tf.cast(\n",
        "      count, tf.float32)-1)\n",
        "  episode['avg_reward'] = avg\n",
        "  return episode\n",
        "\n",
        "# Calculates average reward per episode.\n",
        "dataset_with_avg_reward = dataset.map(reduction_fn)\n",
        "print('mean rewards: ', list(dataset_with_avg_reward.map(lambda e: e['avg_reward']).as_numpy_iterator()))\n",
        "\n",
        "# Filters the episodes with an average reward higher than 5\n",
        "filtered_dataset = dataset_with_avg_reward.filter(lambda episode: episode['avg_reward']<=5)\n",
        "print('filtered mean rewards: ', list(filtered_dataset.map(lambda e: e['avg_reward']).as_numpy_iterator()))"
      ]
    },
    {
      "cell_type": "markdown",
      "metadata": {
        "id": "bF-pvUfZfQOH"
      },
      "source": [
        "###Truncate episodes to a given length\n",
        "\n",
        "Truncates all episode to a max length of 20"
      ]
    },
    {
      "cell_type": "code",
      "execution_count": null,
      "metadata": {
        "id": "zlUscQS0fTX4"
      },
      "outputs": [],
      "source": [
        "# Sets the maximum length for each episode.\n",
        "max_episode_length = 20\n",
        "\n",
        "def truncate_steps(steps: tf.data.Dataset) -> tf.data.Dataset:\n",
        "    return steps.take(max_episode_length)\n",
        "truncated_dataset = rlds.transformations.apply_nested_steps(dataset,\n",
        "                                                            truncate_steps)"
      ]
    },
    {
      "cell_type": "markdown",
      "metadata": {
        "id": "TGT3YfzFOrBm"
      },
      "source": [
        "### Convert Steps into SARS Transitions\n",
        "\n",
        "This example ilustrates how to convert this dataset from an Episode of Steps to an Episode of Transitions."
      ]
    },
    {
      "cell_type": "code",
      "execution_count": null,
      "metadata": {
        "id": "_0J6u6EUO-2I",
        "outputId": "22becd33-b5d1-4139-dd6b-6ef2792c4c83"
      },
      "outputs": [
        {
          "name": "stdout",
          "output_type": "stream",
          "text": [
            "first_episode: {'steps': <_VariantDataset element_spec={'action': TensorSpec(shape=(6,), dtype=tf.float32, name=None), 'discount': TensorSpec(shape=(), dtype=tf.float32, name=None), 'is_first': TensorSpec(shape=(), dtype=tf.bool, name=None), 'is_last': TensorSpec(shape=(), dtype=tf.bool, name=None), 'is_terminal': TensorSpec(shape=(), dtype=tf.bool, name=None), 'observation': TensorSpec(shape=(17,), dtype=tf.float32, name=None), 'reward': TensorSpec(shape=(), dtype=tf.float32, name=None), 'next_observation': TensorSpec(shape=(17,), dtype=tf.float32, name=None), 'next_is_terminal': TensorSpec(shape=(), dtype=tf.bool, name=None), 'next_is_last': TensorSpec(shape=(), dtype=tf.bool, name=None)}>}\n",
            "\n",
            "steps spec: {'action': TensorSpec(shape=(6,), dtype=tf.float32, name=None), 'discount': TensorSpec(shape=(), dtype=tf.float32, name=None), 'is_first': TensorSpec(shape=(), dtype=tf.bool, name=None), 'is_last': TensorSpec(shape=(), dtype=tf.bool, name=None), 'is_terminal': TensorSpec(shape=(), dtype=tf.bool, name=None), 'observation': TensorSpec(shape=(17,), dtype=tf.float32, name=None), 'reward': TensorSpec(shape=(), dtype=tf.float32, name=None), 'next_observation': TensorSpec(shape=(17,), dtype=tf.float32, name=None), 'next_is_terminal': TensorSpec(shape=(), dtype=tf.bool, name=None), 'next_is_last': TensorSpec(shape=(), dtype=tf.bool, name=None)}\n",
            "\n"
          ]
        }
      ],
      "source": [
        "def steps_to_transition(step):\n",
        "  new_step = {k: step[k][0] for k in step.keys()}\n",
        "  new_step['next_observation'] = step[rlds.OBSERVATION][1]\n",
        "  new_step['next_is_terminal'] = step[rlds.IS_TERMINAL][1]\n",
        "  new_step['next_is_last'] = step[rlds.IS_LAST][1]\n",
        "  return new_step\n",
        "\n",
        "def episode_steps_to_transition(episode: Dict[str, Any]) -> tf.data.Dataset:\n",
        "  episode[rlds.STEPS] = rlds.transformations.batch(\n",
        "      episode[rlds.STEPS], size=2, shift=1, drop_remainder=True).map(\n",
        "      steps_to_transition)\n",
        "  return episode\n",
        "\n",
        "dataset_transitions = dataset.map(episode_steps_to_transition)\n",
        "\n",
        "# Prints the first episode and the step spec.\n",
        "first_episode = next(iter(dataset_transitions))\n",
        "\n",
        "print(f'first_episode: {first_episode}\\n')\n",
        "print(f'steps spec: {first_episode[rlds.STEPS].element_spec}\\n')"
      ]
    },
    {
      "cell_type": "markdown",
      "metadata": {
        "id": "rspP4XKg681l"
      },
      "source": [
        "### Convert Steps into N-Step Transitions\n",
        "\n",
        "Similar to the example above, but using N-step transitions."
      ]
    },
    {
      "cell_type": "code",
      "execution_count": null,
      "metadata": {
        "id": "4Jq6-sJn7INJ",
        "outputId": "1c8b5e97-d605-4f3f-a64c-7138a28b13ba"
      },
      "outputs": [
        {
          "name": "stdout",
          "output_type": "stream",
          "text": [
            "first_episode: {'steps': <_VariantDataset element_spec={'action': TensorSpec(shape=(6,), dtype=tf.float32, name=None), 'discount': TensorSpec(shape=(), dtype=tf.float32, name=None), 'is_first': TensorSpec(shape=(), dtype=tf.bool, name=None), 'is_last': TensorSpec(shape=(), dtype=tf.bool, name=None), 'is_terminal': TensorSpec(shape=(), dtype=tf.bool, name=None), 'observation': TensorSpec(shape=(17,), dtype=tf.float32, name=None), 'reward': TensorSpec(shape=(), dtype=tf.float32, name=None), 'next_observation': TensorSpec(shape=(17,), dtype=tf.float32, name=None), 'next_is_terminal': TensorSpec(shape=(), dtype=tf.bool, name=None), 'next_is_last': TensorSpec(shape=(), dtype=tf.bool, name=None)}>}\n",
            "\n",
            "steps spec: {'action': TensorSpec(shape=(6,), dtype=tf.float32, name=None), 'discount': TensorSpec(shape=(), dtype=tf.float32, name=None), 'is_first': TensorSpec(shape=(), dtype=tf.bool, name=None), 'is_last': TensorSpec(shape=(), dtype=tf.bool, name=None), 'is_terminal': TensorSpec(shape=(), dtype=tf.bool, name=None), 'observation': TensorSpec(shape=(17,), dtype=tf.float32, name=None), 'reward': TensorSpec(shape=(), dtype=tf.float32, name=None), 'next_observation': TensorSpec(shape=(17,), dtype=tf.float32, name=None), 'next_is_terminal': TensorSpec(shape=(), dtype=tf.bool, name=None), 'next_is_last': TensorSpec(shape=(), dtype=tf.bool, name=None)}\n",
            "\n"
          ]
        }
      ],
      "source": [
        "def steps_to_nstep_transition(step):\n",
        "  new_step = {k: step[k][0] for k in step.keys()}\n",
        "  new_step[rlds.REWARD] = tf.experimental.numpy.sum(step[rlds.REWARD])\n",
        "  new_step['next_observation'] = step[rlds.OBSERVATION][-1]\n",
        "  new_step['next_is_terminal'] = step[rlds.IS_TERMINAL][-1]\n",
        "  new_step['next_is_last'] = step[rlds.IS_LAST][-1]\n",
        "  return new_step\n",
        "\n",
        "def episode_steps_to_nstep_transition(episode: Dict[str, Any], n) -> tf.data.Dataset:\n",
        "  episode[rlds.STEPS] = rlds.transformations.batch(\n",
        "      episode[rlds.STEPS], size=n, shift=1, drop_remainder=True).map(\n",
        "      steps_to_nstep_transition)\n",
        "  return episode\n",
        "\n",
        "dataset_transitions = dataset.map(lambda e: episode_steps_to_nstep_transition(e, 4))\n",
        "\n",
        "# Prints the first episode and the step spec.\n",
        "first_episode = next(iter(dataset_transitions))\n",
        "\n",
        "print(f'first_episode: {first_episode}\\n')\n",
        "print(f'steps spec: {first_episode[rlds.STEPS].element_spec}\\n')"
      ]
    },
    {
      "cell_type": "markdown",
      "metadata": {
        "id": "tdXastJjTOke"
      },
      "source": [
        "###Change alignment from SAR to ARS\n",
        "The RLDS step contains the current observation, the action applied and the reward obtained. In ARS alignment, a step contains the action applied, the reward, and observation obtained after applying the action.\n",
        "This example shows how to transform the RLDS dataset to ARS format."
      ]
    },
    {
      "cell_type": "code",
      "execution_count": null,
      "metadata": {
        "id": "Hst6_GJBTV4Q",
        "outputId": "366f1b0f-9361-4f84-8f54-07aaf9a1ca3d"
      },
      "outputs": [
        {
          "name": "stdout",
          "output_type": "stream",
          "text": [
            "first_episode: {'steps': <_VariantDataset shapes: {action: (6,), discount: (), is_first: (), is_last: (), is_terminal: (), observation: (17,), reward: (), alignment: ()}, types: {action: tf.float32, discount: tf.float32, is_first: tf.bool, is_last: tf.bool, is_terminal: tf.bool, observation: tf.float32, reward: tf.float32, alignment: tf.int32}>}\n",
            "\n",
            "steps spec: {'action': TensorSpec(shape=(6,), dtype=tf.float32, name=None), 'discount': TensorSpec(shape=(), dtype=tf.float32, name=None), 'is_first': TensorSpec(shape=(), dtype=tf.bool, name=None), 'is_last': TensorSpec(shape=(), dtype=tf.bool, name=None), 'is_terminal': TensorSpec(shape=(), dtype=tf.bool, name=None), 'observation': TensorSpec(shape=(17,), dtype=tf.float32, name=None), 'reward': TensorSpec(shape=(), dtype=tf.float32, name=None), 'alignment': TensorSpec(shape=(), dtype=tf.int32, name=None)}\n",
            "\n"
          ]
        }
      ],
      "source": [
        "# Defines a function to transform SAR to ARS.\n",
        "def sar_to_ars(episode):\n",
        "  steps = episode[rlds.STEPS]\n",
        "  steps = rlds.transformations.concatenate(\n",
        "      rlds.transformations.zero_dataset_like(steps), steps)\n",
        "  steps = rlds.transformations.shift_keys(\n",
        "      steps, [rlds.OBSERVATION, rlds.IS_FIRST, rlds.IS_TERMINAL],\n",
        "      shift=-1)\n",
        "  episode[rlds.STEPS] = steps.map(\n",
        "      lambda s: rlds.transformations.add_alignment_to_step(\n",
        "          s, rlds.transformations.AlignmentType.ARS))\n",
        "  return episode\n",
        "ars_dataset = dataset.map(sar_to_ars)\n",
        "\n",
        "# Prints the first episode and the step spec.\n",
        "first_episode = next(iter(ars_dataset))\n",
        "\n",
        "print(f'first_episode: {first_episode}\\n')\n",
        "print(f'steps spec: {first_episode[rlds.STEPS].element_spec}\\n')"
      ]
    },
    {
      "cell_type": "markdown",
      "metadata": {
        "id": "FMJrLxzNZMEu"
      },
      "source": [
        "###Conditional truncation"
      ]
    },
    {
      "cell_type": "markdown",
      "metadata": {
        "id": "VjGt8IZf8Y3q"
      },
      "source": [
        "This example illustrates how to truncate an episode after a condition."
      ]
    },
    {
      "cell_type": "code",
      "execution_count": null,
      "metadata": {
        "id": "IITR6xj6ZREq",
        "outputId": "4f0a62d0-b033-4c6c-d0fc-e92543531e24"
      },
      "outputs": [
        {
          "data": {
            "text/plain": [
              "<MapDataset shapes: {steps: \"DatasetSpec({action: TensorSpec(shape=(6,), dtype=tf.float32, name=None), discount: TensorSpec(shape=(), dtype=tf.float32, name=None), is_first: TensorSpec(shape=(), dtype=tf.bool, name=None), is_last: TensorSpec(shape=(), dtype=tf.bool, name=None), is_terminal: TensorSpec(shape=(), dtype=tf.bool, name=None), observation: TensorSpec(shape=(17,), dtype=tf.float32, name=None), reward: TensorSpec(shape=(), dtype=tf.float32, name=None)}, TensorShape([]))\"}, types: {steps: \"DatasetSpec({action: TensorSpec(shape=(6,), dtype=tf.float32, name=None), discount: TensorSpec(shape=(), dtype=tf.float32, name=None), is_first: TensorSpec(shape=(), dtype=tf.bool, name=None), is_last: TensorSpec(shape=(), dtype=tf.bool, name=None), is_terminal: TensorSpec(shape=(), dtype=tf.bool, name=None), observation: TensorSpec(shape=(17,), dtype=tf.float32, name=None), reward: TensorSpec(shape=(), dtype=tf.float32, name=None)}, TensorShape([]))\"}>"
            ]
          },
          "execution_count": 36,
          "metadata": {},
          "output_type": "execute_result"
        }
      ],
      "source": [
        "# Defines the name of the field that we are going to look for in the steps to check the condition after which we want to truncate.\n",
        "terminal_tag = 'reward'\n",
        "\n",
        "# Defines a function for setting the terminal step.\n",
        "def set_terminal(step):\n",
        "  has_termination_tag = tf.not_equal(step[terminal_tag],\n",
        "                                     tf.zeros_like(step[terminal_tag]))\n",
        "  step[rlds.IS_TERMINAL] = tf.math.logical_or(step[rlds.IS_TERMINAL],\n",
        "                                              has_termination_tag)\n",
        "  return step\n",
        "\n",
        "# Defines a function for cutting episodes after a terminal step.\n",
        "def cut_single_episode(episode: Dict[str, Any]) -> Dict[str, Any]:\n",
        "  steps = episode[rlds.STEPS]\n",
        "  steps = rlds.transformations.truncate_after_condition(\n",
        "      steps, lambda step: tf.not_equal(step[terminal_tag],\n",
        "                                       tf.zeros_like(step[terminal_tag])))\n",
        "  steps = steps.map(set_terminal)\n",
        "  episode[rlds.STEPS] = steps\n",
        "  return episode\n",
        "\n",
        "dataset.map(cut_single_episode)"
      ]
    },
    {
      "cell_type": "markdown",
      "metadata": {
        "id": "Z0TITfo_4oZr"
      },
      "source": [
        "### Normalization\n",
        "\n",
        "Use the calculation of the mean and the std to apply normalization to the observations."
      ]
    },
    {
      "cell_type": "code",
      "execution_count": null,
      "metadata": {
        "id": "a9oK5CRE4zMZ"
      },
      "outputs": [],
      "source": [
        "mean, std = rlds.transformations.mean_and_std(dataset, rlds.transformations.sar_fields_mask)\n",
        "\n",
        "shift = -mean[rlds.OBSERVATION].numpy()\n",
        "scale = 1.0 / np.maximum(std[rlds.OBSERVATION], 1e-3)\n",
        "\n",
        "def normalize_observations(step):\n",
        "  step[rlds.OBSERVATION] = (step[rlds.OBSERVATION]+shift) * scale\n",
        "  return step\n",
        "\n",
        "normalized_dataset = rlds.transformations.map_nested_steps(dataset, normalize_observations)"
      ]
    }
  ],
  "metadata": {
    "colab": {
      "name": "rlds_tutorial.ipynb",
      "provenance": [],
      "toc_visible": true
    },
    "kernelspec": {
      "display_name": "Python 3",
      "name": "python3"
    }
  },
  "nbformat": 4,
  "nbformat_minor": 0
}